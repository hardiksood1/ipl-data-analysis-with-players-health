{
 "cells": [
  {
   "cell_type": "code",
   "execution_count": null,
   "metadata": {},
   "outputs": [],
   "source": [
    "import numpy as np\n",
    "import pandas as pd\n",
    "import matplotlib.pyplot as plt\n",
    "import seaborn as sns\n",
    "match_data = pd.read_csv('matches.csv')\n",
    "delivery_data = pd.read_csv('IPL_Ball.csv')\n",
    "match_data.head()"
   ]
  },
  {
   "cell_type": "code",
   "execution_count": null,
   "metadata": {},
   "outputs": [],
   "source": [
    "match_data.head()"
   ]
  },
  {
   "cell_type": "code",
   "execution_count": null,
   "metadata": {},
   "outputs": [],
   "source": [
    "match_data.tail()"
   ]
  },
  {
   "cell_type": "code",
   "execution_count": null,
   "metadata": {},
   "outputs": [],
   "source": [
    "delivery_data.head()"
   ]
  },
  {
   "cell_type": "code",
   "execution_count": null,
   "metadata": {},
   "outputs": [],
   "source": [
    "match_data.isnull().sum()"
   ]
  },
  {
   "cell_type": "code",
   "execution_count": null,
   "metadata": {},
   "outputs": [],
   "source": [
    "delivery_data.isnull().sum()"
   ]
  },
  {
   "cell_type": "code",
   "execution_count": null,
   "metadata": {},
   "outputs": [],
   "source": [
    "match_data.shape"
   ]
  },
  {
   "cell_type": "code",
   "execution_count": null,
   "metadata": {},
   "outputs": [],
   "source": [
    "delivery_data.shape"
   ]
  },
  {
   "cell_type": "code",
   "execution_count": null,
   "metadata": {},
   "outputs": [],
   "source": [
    "print('match played so far :' , match_data.shape[0])\n",
    "print('\\n city played at :', match_data['City'].unique())\n",
    "print('\\n teams participated :',match_data['Team1'].unique())"
   ]
  },
  {
   "cell_type": "code",
   "execution_count": null,
   "metadata": {},
   "outputs": [],
   "source": [
    "match_data['Season'] = pd.DatetimeIndex(match_data['Date']).year\n",
    "match_data.head()"
   ]
  },
  {
   "cell_type": "code",
   "execution_count": null,
   "metadata": {},
   "outputs": [],
   "source": [
    "match_per_season = match_data.groupby(['Season'])['ID'].count().reset_index().rename(columns = {'ID': 'matches'})\n",
    "match_per_season"
   ]
  },
  {
   "cell_type": "code",
   "execution_count": null,
   "metadata": {},
   "outputs": [],
   "source": [
    "sns.histplot(match_data['Season'],bins=15)\n",
    "plt.xticks( fontsize=10)\n",
    "plt.yticks(fontsize=15)\n",
    "plt.xlabel('Season', fontsize=10)\n",
    "plt.ylabel('matches', fontsize=10)\n",
    "plt.title('total matches played in each Season', fontsize = 10, fontweight=\"bold\")"
   ]
  },
  {
   "cell_type": "code",
   "execution_count": null,
   "metadata": {},
   "outputs": [],
   "source": [
    "Season_data = match_data[['ID','Season']].merge(delivery_data,left_on='ID',right_on = 'ID', how ='left').drop('ID',axis = 1)\n",
    "Season_data.head()"
   ]
  },
  {
   "cell_type": "code",
   "execution_count": null,
   "metadata": {},
   "outputs": [],
   "source": [
    "season =Season_data.groupby(['Season'])['total_run'].sum().reset_index()\n",
    "p = season.set_index('Season')\n",
    "ax = plt.axes()\n",
    "ax.set(facecolor = \"grey\")\n",
    "sns.lineplot(data=p,palette=\"magma\")\n",
    "plt.title('total run in each season',fontsize=12,fontweight=\"bold\")\n",
    "plt.show()"
   ]
  },
  {
   "cell_type": "code",
   "execution_count": null,
   "metadata": {},
   "outputs": [],
   "source": [
    "runs_per_season = pd.concat([match_per_season,season.iloc[:,1]],axis=1)\n",
    "runs_per_season['Run scored per match']=runs_per_season['total_run']/runs_per_season['matches']\n",
    "runs_per_season.set_index('Season',inplace=True)\n",
    "runs_per_season"
   ]
  },
  {
   "cell_type": "code",
   "execution_count": null,
   "metadata": {},
   "outputs": [],
   "source": [
    "toss=match_data['TossWinner'].value_counts()\n",
    "ax = plt.axes()\n",
    "ax.set(facecolor = \"grey\")\n",
    "sns.set(rc = {'figure.figsize' : (15,10)},style='darkgrid')\n",
    "ax.set_title('No. of tosses won by eatch team ',fontsize=15, fontweight=\"bold\")\n",
    "sns.barplot(y=toss.index, x=toss, orient='h',palette = \"icefire\", saturation=1)\n",
    "plt.xlabel(' of tosses won')\n",
    "plt.ylabel('Team')\n",
    "plt.show()"
   ]
  },
  {
   "cell_type": "code",
   "execution_count": null,
   "metadata": {},
   "outputs": [],
   "source": [
    "ax = plt.axes()\n",
    "ax.set(facecolor=\"grey\")\n",
    "sns.countplot(x='Season', hue='TossDecision', data = match_data,palette=\"magma\",saturation=1)\n",
    "plt.xticks(rotation=90,fontsize=10)\n",
    "plt.yticks(fontsize=15)\n",
    "plt.xlabel('\\n Season',fontsize=15)\n",
    "plt.ylabel('count',fontsize=15)\n",
    "plt.title('Toss decision across seasoan', fontsize=12,fontweight=\"bold\")\n",
    "plt.show()"
   ]
  },
  {
   "cell_type": "code",
   "execution_count": null,
   "metadata": {},
   "outputs": [],
   "source": [
    "match_data['WonBy'].value_counts()"
   ]
  },
  {
   "cell_type": "code",
   "execution_count": null,
   "metadata": {},
   "outputs": [],
   "source": [
    "match_data.Venue[match_data.WonBy!='Runs'].mode()"
   ]
  },
  {
   "cell_type": "code",
   "execution_count": null,
   "metadata": {},
   "outputs": [],
   "source": [
    "match_data.Venue[match_data.WonBy!='Wickets'].mode()"
   ]
  },
  {
   "cell_type": "code",
   "execution_count": null,
   "metadata": {},
   "outputs": [],
   "source": [
    "filtered_data = match_data[(match_data['TossWinner'] == 'Rajasthan Royals') & ((match_data['Team1'] == 'Rajasthan Royals') | (match_data['Team2'] == 'Gujarat Titans'))]\n",
    "mode_venue = filtered_data['Venue'].mode()\n",
    "print(\" won the toss and played:\")\n",
    "print(mode_venue)"
   ]
  },
  {
   "cell_type": "code",
   "execution_count": null,
   "metadata": {},
   "outputs": [],
   "source": [
    "match_data.WinningTeam[match_data.WonBy!='Runs'].mode()"
   ]
  },
  {
   "cell_type": "code",
   "execution_count": null,
   "metadata": {},
   "outputs": [],
   "source": [
    "match_data.WinningTeam[match_data.WonBy!='Wickets'].mode()"
   ]
  },
  {
   "cell_type": "code",
   "execution_count": null,
   "metadata": {},
   "outputs": [],
   "source": [
    "toss1 = match_data['TossDecision'] == match_data['WinningTeam']\n",
    "#plt.figutre = (15,10)\n",
    "#sns.histplot(toss)\n",
    "#plt.show()\n",
    "sns.histplot(toss1)\n",
    "#plt.xticks( fontsize=10)\n",
    "#plt.yticks(fontsize=15)\n",
    "plt.xlabel('toss')\n",
    "plt.ylabel('frequecy')\n",
    "plt.title('total matches played in each Season', fontsize = 10, fontweight=\"bold\")"
   ]
  },
  {
   "cell_type": "code",
   "execution_count": null,
   "metadata": {},
   "outputs": [],
   "source": [
    "toss.tail()"
   ]
  },
  {
   "cell_type": "code",
   "execution_count": null,
   "metadata": {},
   "outputs": [],
   "source": [
    "numeric_data = [1 if x else 0 for x in toss]\n",
    "sns.histplot(numeric_data, bins=2, color=\"blue\", edgecolor = \"black\")"
   ]
  },
  {
   "cell_type": "code",
   "execution_count": null,
   "metadata": {},
   "outputs": [],
   "source": [
    "plt.figure(figsize = (12,4))\n",
    "sns.countplot(match_data.TossDecision[match_data.TossWinner == match_data.WinningTeam])\n",
    "plt.show()"
   ]
  },
  {
   "cell_type": "code",
   "execution_count": null,
   "metadata": {},
   "outputs": [],
   "source": [
    "player = (delivery_data['batter']=='JC Buttler')\n",
    "df_Buttler = delivery_data[player]\n",
    "df_Buttler.head()"
   ]
  },
  {
   "cell_type": "code",
   "execution_count": null,
   "metadata": {},
   "outputs": [],
   "source": [
    "df_Buttler['kind'].value_counts().plot.pie(autopct='%1.1f%%',shadow=True,rotatelabels=True)\n",
    "plt.title(\"Player Out\", fontweight=\"bold\",fontsize=15)\n",
    "plt.show()"
   ]
  },
  {
   "cell_type": "code",
   "execution_count": null,
   "metadata": {},
   "outputs": [],
   "source": [
    "delivery_data['fitness_score']= 2*delivery_data['batsman_run']+0.5*delivery_data['ballnumber']"
   ]
  },
  {
   "cell_type": "code",
   "execution_count": null,
   "metadata": {},
   "outputs": [],
   "source": [
    "fitness_threshold = 5"
   ]
  },
  {
   "cell_type": "code",
   "execution_count": null,
   "metadata": {},
   "outputs": [],
   "source": [
    "delivery_data.tail()"
   ]
  },
  {
   "cell_type": "code",
   "execution_count": null,
   "metadata": {},
   "outputs": [],
   "source": [
    "for index, player in delivery_data.iterrows():\n",
    "    if player['fitness_score'] >= fitness_threshold:\n",
    "        print(f\"{player['batter']} is fit with a fitness score of {player['fitness_score']}.\")\n",
    "    else:\n",
    "        print(f\"{player['batter']} needs to work on fitness with a score of {player['fitness_score']}.\")"
   ]
  },
  {
   "cell_type": "code",
   "execution_count": null,
   "metadata": {},
   "outputs": [],
   "source": [
    "selected_player = 'JC Buttler'\n",
    "player_data = delivery_data[delivery_data['batter'] == selected_player]\n",
    "plt.figure(figsize=(12, 6))\n",
    "plt.plot(player_data['fitness_score'], marker='o', color='b', linestyle='-')\n",
    "\n",
    "plt.title(f'Fitness Score of' )\n",
    "plt.xlabel('Balls Faced')\n",
    "plt.ylabel('Fitness Score')\n",
    "plt.grid(True)\n",
    "plt.show()"
   ]
  },
  {
   "cell_type": "code",
   "execution_count": null,
   "metadata": {},
   "outputs": [],
   "source": [
    "match_data['Margin'] = pd.to_numeric(match_data['Margin'], errors='coerce')"
   ]
  },
  {
   "cell_type": "code",
   "execution_count": null,
   "metadata": {},
   "outputs": [],
   "source": [
    "match_data['Win_Ratio'] = match_data['WinningTeam'] / match_data['Margin']"
   ]
  },
  {
   "cell_type": "code",
   "execution_count": null,
   "metadata": {},
   "outputs": [],
   "source": [
    "print(match_data['Win_Ratio'])"
   ]
  },
  {
   "cell_type": "code",
   "execution_count": null,
   "metadata": {},
   "outputs": [],
   "source": [
    "plt.figure(figsize=(10, 6))\n",
    "plt.bar(match_data['Team2'], match_data['Win_Ratio'], color='skyblue')\n",
    "plt.xlabel('Team2')\n",
    "plt.ylabel('Winning Ratio')\n",
    "plt.title('Winning Ratio of Teams')\n",
    "plt.ylim(0, 1)  # Set y-axis limits to show ratios between 0 and 1\n",
    "plt.show()"
   ]
  },
  {
   "cell_type": "code",
   "execution_count": 142,
   "metadata": {},
   "outputs": [
    {
     "name": "stdout",
     "output_type": "stream",
     "text": [
      "Player is Fit\n",
      "JC Buttler's health is 80\n"
     ]
    }
   ],
   "source": [
    "class Player:\n",
    "    def __init__(self, name, health):\n",
    "        self.name = name\n",
    "        self.health = health\n",
    "\n",
    "    def take_damage(self, damage):\n",
    "        self.health -= damage\n",
    "        if self.health >= 80:\n",
    "            print(\"Player is Fit\")\n",
    "        elif 60 <= self.health < 80:\n",
    "            print(\"Player is Moderate damage\")\n",
    "        else:\n",
    "            print(\"Player is high damage\")\n",
    "\n",
    "    def show_health(self):\n",
    "        print(f\"{self.name}'s health is {self.health}\")\n",
    "\n",
    "player1 = Player(\"JC Buttler\", 100)\n",
    "\n",
    "damage_taken = 20\n",
    "player1.take_damage(damage_taken)\n",
    "\n",
    "player1.show_health()\n"
   ]
  },
  {
   "cell_type": "code",
   "execution_count": 134,
   "metadata": {},
   "outputs": [],
   "source": [
    "def plot_health_history(self):\n",
    "        plt.plot(range(len(self.health_history)), self.health_history, marker='o')\n",
    "        plt.xlabel('Damage Taken')\n",
    "        plt.ylabel('Health')\n",
    "        plt.title(f'{self.name}\\'s Health History')\n",
    "        plt.show()"
   ]
  },
  {
   "cell_type": "code",
   "execution_count": 135,
   "metadata": {},
   "outputs": [
    {
     "name": "stdout",
     "output_type": "stream",
     "text": [
      "JC Buttle's health is 90\n",
      "JC Buttle's health is 70\n",
      "JC Buttle's health is 40\n",
      "JC Buttle's health is 25\n"
     ]
    }
   ],
   "source": [
    "player1 = Player(\"JC Buttle\", 100)\n",
    "damage_taken = [10, 20, 30, 15]\n",
    "for damage in damage_taken:\n",
    "    player1.take_damage(damage)\n",
    "    player1.show_health()\n"
   ]
  },
  {
   "cell_type": "code",
   "execution_count": null,
   "metadata": {},
   "outputs": [],
   "source": []
  }
 ],
 "metadata": {
  "kernelspec": {
   "display_name": "Python 3 (ipykernel)",
   "language": "python",
   "name": "python3"
  },
  "language_info": {
   "codemirror_mode": {
    "name": "ipython",
    "version": 3
   },
   "file_extension": ".py",
   "mimetype": "text/x-python",
   "name": "python",
   "nbconvert_exporter": "python",
   "pygments_lexer": "ipython3",
   "version": "3.11.5"
  }
 },
 "nbformat": 4,
 "nbformat_minor": 4
}
